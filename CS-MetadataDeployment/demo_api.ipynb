{
 "cells": [
  {
   "cell_type": "markdown",
   "metadata": {},
   "source": [
    " Licensed Materials - Property of IBM (c) Copyright IBM Corp. 2023 All Rights Reserved.\n",
    "\n",
    " US Government Users Restricted Rights - Use, duplication or disclosure restricted by GSA ADP Schedule Contract with\n",
    " IBM Corp.\n",
    "\n",
    " DISCLAIMER OF WARRANTIES :\n",
    "\n",
    " Permission is granted to copy and modify this Sample code, and to distribute modified versions provided that both the\n",
    " copyright notice, and this permission notice and warranty disclaimer appear in all copies and modified versions.\n",
    "\n",
    " THIS SAMPLE CODE IS LICENSED TO YOU AS-IS. IBM AND ITS SUPPLIERS AND LICENSORS DISCLAIM ALL WARRANTIES, EITHER\n",
    " EXPRESS OR IMPLIED, IN SUCH SAMPLE CODE, INCLUDING THE WARRANTY OF NON-INFRINGEMENT AND THE IMPLIED WARRANTIES OF\n",
    " MERCHANTABILITY OR FITNESS FOR A PARTICULAR PURPOSE. IN NO EVENT WILL IBM OR ITS LICENSORS OR SUPPLIERS BE LIABLE FOR\n",
    " ANY DAMAGES ARISING OUT OF THE USE OF OR INABILITY TO USE THE SAMPLE CODE, DISTRIBUTION OF THE SAMPLE CODE, OR\n",
    " COMBINATION OF THE SAMPLE CODE WITH ANY OTHER CODE. IN NO EVENT SHALL IBM OR ITS LICENSORS AND SUPPLIERS BE LIABLE\n",
    " FOR ANY LOST REVENUE, LOST PROFITS OR DATA, OR FOR DIRECT, INDIRECT, SPECIAL, CONSEQUENTIAL, INCIDENTAL OR PUNITIVE\n",
    " DAMAGES, HOWEVER CAUSED AND REGARDLESS OF THE THEORY OF LIABILITY, EVEN IF IBM OR ITS LICENSORS OR SUPPLIERS HAVE\n",
    " BEEN ADVISED OF THE POSSIBILITY OF SUCH DAMAGES."
   ]
  },
  {
   "cell_type": "code",
   "execution_count": 1,
   "id": "8d271fab",
   "metadata": {},
   "outputs": [],
   "source": [
    "import json\n",
    "import config\n",
    "from demoutil import ClassDefinitionsSelector\n",
    "from csdeploy.gqlinvoke import GraphqlConnection\n",
    "from csdeploy.gqlinvoke import GraphqlRequest\n",
    "from csdeploy.impexp import Exporter\n",
    "from csdeploy.pkg import DeploymentPackage\n",
    "from csdeploy.pkg import ExportSelection, ClassDefinitionSelection\n",
    "from csdeploy.impexp import Importer\n"
   ]
  },
  {
   "cell_type": "markdown",
   "id": "ddf8a5dc",
   "metadata": {},
   "source": [
    "# The system to export from"
   ]
  },
  {
   "cell_type": "code",
   "execution_count": null,
   "id": "a8445210",
   "metadata": {},
   "outputs": [],
   "source": [
    "print(config.GQL_URL)\n",
    "print(config.OS_NAME)"
   ]
  },
  {
   "cell_type": "markdown",
   "id": "a5b65437",
   "metadata": {},
   "source": [
    "# Authenticate with the source GraphQL server\n",
    "(Choose one method of Authentication)\n"
   ]
  },
  {
   "cell_type": "markdown",
   "id": "6532b711",
   "metadata": {},
   "source": [
    "#### OAuth Authentication"
   ]
  },
  {
   "cell_type": "code",
   "execution_count": null,
   "id": "d571d4d6",
   "metadata": {},
   "outputs": [],
   "source": [
    "source_connection = GraphqlConnection(url=config.GQL_URL, token_url=config.TOKEN_URL)\n",
    "source_connection.initialize_oauth(client_id=config.CLIENT_ID,client_secret= config.CLIENT_SECRET, username=config.OAUTH_USERNAME, password=config.OAUTH_PASSWORD,\\\n",
    "                                grant_type=config.GRANT_TYPE, scope=config.SCOPE)\n",
    "source_connection.get_token()\n",
    "print(\"XSRF token: \" + source_connection.xsrf_token)\n",
    "print(\"Authentication token: \" + source_connection.token)"
   ]
  },
  {
   "cell_type": "markdown",
   "id": "cc037f7d",
   "metadata": {},
   "source": [
    "#### Basic Authentication"
   ]
  },
  {
   "cell_type": "code",
   "execution_count": null,
   "id": "ae4215d1",
   "metadata": {},
   "outputs": [],
   "source": [
    "source_connection = GraphqlConnection(url=config.GQL_URL)\n",
    "source_connection.initialize_basic(username=config.BASIC_USERNAME, password=config.BASIC_PASSWORD)\n",
    "print(\"XSRF token: \" + source_connection.xsrf_token)"
   ]
  },
  {
   "cell_type": "markdown",
   "metadata": {},
   "source": [
    "#### Zen and IAM Authentication"
   ]
  },
  {
   "cell_type": "code",
   "execution_count": null,
   "metadata": {},
   "outputs": [],
   "source": [
    "source_connection = GraphqlConnection(url=config.GQL_URL, token_url=config.TOKEN_URL)\n",
    "source_connection.initialize_oauth(client_id=config.CLIENT_ID,client_secret= config.CLIENT_SECRET, username=config.OAUTH_USERNAME, password=config.OAUTH_PASSWORD,\\\n",
    "                                grant_type=config.GRANT_TYPE, scope=config.SCOPE)\n",
    "source_connection.get_token()\n",
    "print(\"XSRF token: \" + source_connection.xsrf_token)\n",
    "print(\"IAM token: \" + source_connection.token)\n",
    "source_connection.exchange_iam_token(config.EXCHANGE_TOKEN_URL)\n",
    "print(\"Access token: \" + source_connection.token)"
   ]
  },
  {
   "cell_type": "markdown",
   "id": "0ffc2864",
   "metadata": {},
   "source": [
    "# Prompt for one or more classes to export"
   ]
  },
  {
   "cell_type": "code",
   "execution_count": null,
   "id": "14e9b7fd",
   "metadata": {},
   "outputs": [],
   "source": [
    "selector = ClassDefinitionsSelector(config.OS_NAME, source_connection)\n",
    "selector.prompt_selection()\n",
    "print(\"Classes selected:\")\n",
    "for sel in selector.selections:\n",
    "    jsonobj = sel.to_json()\n",
    "    print(str(jsonobj))"
   ]
  },
  {
   "cell_type": "markdown",
   "id": "64d211d0",
   "metadata": {},
   "source": [
    "# Initialize an Exporter object with the classes to export"
   ]
  },
  {
   "cell_type": "code",
   "execution_count": null,
   "id": "5a7b0533",
   "metadata": {},
   "outputs": [],
   "source": [
    "deplpkg = DeploymentPackage()\n",
    "exporter = Exporter(source_connection, config.OS_NAME, deplpkg)"
   ]
  },
  {
   "cell_type": "code",
   "execution_count": null,
   "id": "31315ca4",
   "metadata": {},
   "outputs": [],
   "source": [
    "expsel = ExportSelection(selector.selections)\n",
    "exporter.initialize_selection(expsel)\n",
    "print(\"Deployment package after selection:\")\n",
    "pkgjson = deplpkg.to_json()\n",
    "print(json.dumps(pkgjson, indent=4))"
   ]
  },
  {
   "cell_type": "markdown",
   "id": "5816be68",
   "metadata": {},
   "source": [
    "# Generate the export queries\n",
    "\n",
    "This cell may need to be re-run if exporting the objects in the following cell identifies additional dependencies. Take note of the status message output by the following cell and come back to re-run this cell if necessary."
   ]
  },
  {
   "cell_type": "code",
   "execution_count": null,
   "id": "9384411e",
   "metadata": {},
   "outputs": [],
   "source": [
    "exporter.generate_queries()\n",
    "print(\"Deployment package after queries generated:\")\n",
    "print(json.dumps(deplpkg.to_json(), indent=4))\n",
    "print(\"\\nThe export queries:\")\n",
    "for expqry in deplpkg.export_queries:\n",
    "    print(\"--------------------\")\n",
    "    print(expqry.query)"
   ]
  },
  {
   "cell_type": "markdown",
   "id": "d8bb1e51",
   "metadata": {},
   "source": [
    "# Export objects in the package\n",
    "\n",
    "If further dependencies are identified, re-run the previous cell to generate additional export queries then re-run this cell to export the additional objects."
   ]
  },
  {
   "cell_type": "code",
   "execution_count": null,
   "id": "77f5ccf6",
   "metadata": {},
   "outputs": [],
   "source": [
    "exporter.export()\n",
    "objs_requiring_export = deplpkg.get_obj_requiring_export_data()\n",
    "if (len(objs_requiring_export) == 0):\n",
    "    print(\"All objects have been exported.\\n\")\n",
    "else:\n",
    "    print(\"There are still more objects that need to be exported.\")\n",
    "    print(\"Call generate_queries() to generate additional queries and then call export() to export the additional objects.\\n\")\n",
    "print(\"Deployment package after objects exported:\")\n",
    "print(json.dumps(deplpkg.to_json(), indent=4))"
   ]
  },
  {
   "cell_type": "markdown",
   "id": "db747bfb",
   "metadata": {},
   "source": [
    "# Save the package to a file"
   ]
  },
  {
   "cell_type": "code",
   "execution_count": null,
   "id": "54ba1f08",
   "metadata": {},
   "outputs": [],
   "source": [
    "deplpkg.write(\"export.json\")"
   ]
  },
  {
   "cell_type": "markdown",
   "id": "2e39059c",
   "metadata": {},
   "source": [
    "# The system to import to"
   ]
  },
  {
   "cell_type": "code",
   "execution_count": null,
   "id": "fcb2a89f",
   "metadata": {},
   "outputs": [],
   "source": [
    "print(config.TARGET_GQL_URL)\n",
    "print(config.TARGET_OS_NAME)"
   ]
  },
  {
   "cell_type": "markdown",
   "id": "d6ca29de",
   "metadata": {},
   "source": [
    "# Authenticate with the target GraphQL server\n",
    "(Choose one method of Authentication)\n"
   ]
  },
  {
   "cell_type": "markdown",
   "id": "77c6e60f",
   "metadata": {},
   "source": [
    "#### OAuth Authentication"
   ]
  },
  {
   "cell_type": "code",
   "execution_count": null,
   "id": "a635ab69",
   "metadata": {},
   "outputs": [],
   "source": [
    "target_connection = GraphqlConnection(url=config.TARGET_GQL_URL, token_url=config.TARGET_TOKEN_URL)\n",
    "target_connection.initialize_oauth(client_id=config.TARGET_CLIENT_ID,client_secret= config.TARGET_CLIENT_SECRET, username=config.TARGET_OAUTH_USERNAME, password=config.TARGET_OAUTH_PASSWORD,\\\n",
    "                                grant_type=config.TARGET_GRANT_TYPE, scope=config.TARGET_SCOPE)\n",
    "target_connection.get_token()\n",
    "print(\"XSRF token: \" + target_connection.xsrf_token)\n",
    "print(\"Authentication token: \" + target_connection.token)"
   ]
  },
  {
   "cell_type": "markdown",
   "id": "f94d2729",
   "metadata": {},
   "source": [
    "#### Basic Authentication"
   ]
  },
  {
   "cell_type": "code",
   "execution_count": null,
   "id": "33106825",
   "metadata": {},
   "outputs": [],
   "source": [
    "target_connection = GraphqlConnection(url=config.TARGET_GQL_URL)\n",
    "target_connection.initialize_basic(username=config.TARGET_BASIC_USERNAME, password=config.TARGET_BASIC_PASSWORD)\n",
    "print(\"XSRF token: \" + target_connection.xsrf_token)"
   ]
  },
  {
   "cell_type": "markdown",
   "metadata": {},
   "source": [
    "#### Zen and IAM Authentication"
   ]
  },
  {
   "cell_type": "code",
   "execution_count": null,
   "metadata": {},
   "outputs": [],
   "source": [
    "target_connection = GraphqlConnection(url=config.GQL_URL, token_url=config.TOKEN_URL)\n",
    "target_connection.initialize_oauth(client_id=config.CLIENT_ID,client_secret= config.CLIENT_SECRET, username=config.OAUTH_USERNAME, password=config.OAUTH_PASSWORD,\\\n",
    "                                grant_type=config.GRANT_TYPE, scope=config.SCOPE)\n",
    "target_connection.get_token()\n",
    "print(\"XSRF token: \" + source_connection.xsrf_token)\n",
    "print(\"IAM token: \" + source_connection.token)\n",
    "target_connection.exchange_iam_token(config.EXCHANGE_TOKEN_URL)\n",
    "print(\"Access token: \" + source_connection.token)"
   ]
  },
  {
   "cell_type": "markdown",
   "id": "0ab2a26b",
   "metadata": {},
   "source": [
    "# Load the package file previously exported"
   ]
  },
  {
   "cell_type": "code",
   "execution_count": null,
   "id": "1fdcce96",
   "metadata": {},
   "outputs": [],
   "source": [
    "deplpkg = DeploymentPackage()\n",
    "deplpkg.read('export.json')\n",
    "print(json.dumps(deplpkg.to_json(), indent=4))\n"
   ]
  },
  {
   "cell_type": "markdown",
   "id": "9c5d27a2",
   "metadata": {},
   "source": [
    "# Generate the import discovery queries and mutations\n",
    "Queries to discover what exists currently in the object store and mutations to import into the target."
   ]
  },
  {
   "cell_type": "code",
   "execution_count": null,
   "id": "5824ee12",
   "metadata": {},
   "outputs": [],
   "source": [
    "importer = Importer(target_connection, config.TARGET_OS_NAME, deplpkg)\n",
    "importer.generate_mutations()\n",
    "print(\"\\nGenerated import discovery queries:\")\n",
    "for impqry in importer.discovery_queries:\n",
    "    print(\"--------------------\")\n",
    "    print(\"Objects retrieved by query:\")\n",
    "    for rid in impqry.retrievals:\n",
    "        print(\"    \" + rid)\n",
    "    print(\"The query:\")\n",
    "    print(impqry.query)\n",
    "print(\"\\nGenerated import mutations:\")\n",
    "for impmut in importer.import_mutations:\n",
    "    print(\"--------------------\")\n",
    "    print(\"Objects modified by mutation:\")\n",
    "    for rid in impmut.modifications:\n",
    "        print(\"    \" + rid)\n",
    "    print(\"Description of mutation: \" + impmut.description)\n",
    "    print(\"The mutation:\")\n",
    "    print(impmut.mutation)\n"
   ]
  },
  {
   "cell_type": "markdown",
   "id": "18287478",
   "metadata": {},
   "source": [
    "# Import the exported objects by executing the mutations"
   ]
  },
  {
   "cell_type": "code",
   "execution_count": null,
   "id": "779f31fa",
   "metadata": {},
   "outputs": [],
   "source": [
    "mutrespjsons = importer.import_package()\n",
    "print(\"Mutation responses:\")\n",
    "for mutrespjson in mutrespjsons:\n",
    "    print(\"--------------------\")\n",
    "    print(json.dumps(mutrespjson, indent=4))"
   ]
  },
  {
   "cell_type": "code",
   "execution_count": null,
   "id": "5096bbe0",
   "metadata": {},
   "outputs": [],
   "source": []
  }
 ],
 "metadata": {
  "kernelspec": {
   "display_name": "Python 3 (ipykernel)",
   "language": "python",
   "name": "python3"
  },
  "language_info": {
   "codemirror_mode": {
    "name": "ipython",
    "version": 3
   },
   "file_extension": ".py",
   "mimetype": "text/x-python",
   "name": "python",
   "nbconvert_exporter": "python",
   "pygments_lexer": "ipython3",
   "version": "3.12.0"
  }
 },
 "nbformat": 4,
 "nbformat_minor": 5
}
